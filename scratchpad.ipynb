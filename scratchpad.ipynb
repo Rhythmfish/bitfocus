{
 "cells": [
  {
   "cell_type": "code",
   "execution_count": 1,
   "metadata": {},
   "outputs": [],
   "source": [
    "import mariadb\n",
    "import sys"
   ]
  },
  {
   "cell_type": "code",
   "execution_count": null,
   "metadata": {},
   "outputs": [],
   "source": [
    "# Connect to MariaDB\n",
    "try:\n",
    "    conn = mariadb.connect(\n",
    "        user=\"db_user\",\n",
    "        password=\"db_user_passwd\",\n",
    "        host=\"192.0.2.1\",\n",
    "        port=3306,\n",
    "        database=\"employees\"\n",
    "\n",
    "    )\n",
    "except mariadb.Error as e:\n",
    "    print(f\"Error connecting to MariaDB Platform: {e}\")\n",
    "    sys.exit(1)\n",
    "\n",
    "# Get Cursor\n",
    "cur = conn.cursor()"
   ]
  },
  {
   "cell_type": "code",
   "execution_count": null,
   "metadata": {},
   "outputs": [],
   "source": [
    "# Create table\n",
    "cur.execute(\"CREATE TABLE Disabilities(\n",
    "    DisabilitiesID VARCHAR(50),\n",
    "    EnrollmentID INTEGER,\n",
    "    PersonalID INTEGER,\n",
    "    InformationDate VARCHAR(50),\n",
    "    DisabilityType INTEGER,\n",
    "    DisabilityResponse INTEGER,\n",
    "    IndefiniteAndImpairs INTEGER,\n",
    "    TCellCountAvailable VARCHAR(50),\n",
    "    TCellCount VARCHAR(50),\n",
    "    TCellSource VARCHAR(50),\n",
    "    ViralLoadAvailable VARCHAR(50),\n",
    "    ViralLoad VARCHAR(50),\n",
    "    ViralLoadSource VARCHAR(50),\n",
    "    AntiRetroviral VARCHAR(50),\n",
    "    DataCollectionStage INTEGER,\n",
    "    DateCreated VARCHAR(50),\n",
    "    DateUpdated VARCHAR(50),\n",
    "    UserID INTEGER,\n",
    "    DateDeleted VARCHAR(50),\n",
    "    ExportID INTEGER)\")\n"
   ]
  },
  {
   "cell_type": "code",
   "execution_count": null,
   "metadata": {},
   "outputs": [],
   "source": [
    "# Load table\n",
    "cur.execute(\n",
    "    \"INSERT INTO employees (first_name,last_name) VALUES (?, ?)\", \n",
    "    (first_name, last_name)\n",
    "    )"
   ]
  },
  {
   "cell_type": "code",
   "execution_count": null,
   "metadata": {},
   "outputs": [],
   "source": [
    "conn.close()"
   ]
  }
 ],
 "metadata": {
  "kernelspec": {
   "display_name": "Python 3.10.5 64-bit",
   "language": "python",
   "name": "python3"
  },
  "language_info": {
   "codemirror_mode": {
    "name": "ipython",
    "version": 3
   },
   "file_extension": ".py",
   "mimetype": "text/x-python",
   "name": "python",
   "nbconvert_exporter": "python",
   "pygments_lexer": "ipython3",
   "version": "3.10.5"
  },
  "orig_nbformat": 4,
  "vscode": {
   "interpreter": {
    "hash": "26de051ba29f2982a8de78e945f0abaf191376122a1563185a90213a26c5da77"
   }
  }
 },
 "nbformat": 4,
 "nbformat_minor": 2
}

{
 "cells": [
  {
   "cell_type": "code",
   "execution_count": null,
   "metadata": {},
   "outputs": [],
   "source": [
    "import mariadb\n",
    "import sys\n",
    "from pathlib import Path\n"
   ]
  },
  {
   "cell_type": "code",
   "execution_count": null,
   "metadata": {},
   "outputs": [],
   "source": [
    "# Connect to MariaDB\n",
    "try:\n",
    "    conn = mariadb.connect(\n",
    "        user=\"db_user\",\n",
    "        password=\"db_user_passwd\",\n",
    "        host=\"192.0.2.1\",\n",
    "        port=3306,\n",
    "        database=\"employees\"\n",
    "\n",
    "    )\n",
    "except mariadb.Error as e:\n",
    "    print(f\"Error connecting to remote DB: {e}\")\n",
    "    sys.exit(1)\n",
    "\n",
    "# Get Cursor\n",
    "cursor = conn.cursor()"
   ]
  },
  {
   "cell_type": "code",
   "execution_count": null,
   "metadata": {},
   "outputs": [],
   "source": [
    "# assign directory\n",
    "directory = 'C:\\\\Users\\\\Landon\\\\Python Projects\\\\bitfocus\\\\files'\n",
    " \n",
    "# iterate over files\n",
    "files = Path(directory).glob('*.csv')\n",
    "for file in files:\n",
    "    print(file)"
   ]
  },
  {
   "cell_type": "code",
   "execution_count": null,
   "metadata": {},
   "outputs": [],
   "source": [
    "try:\n",
    "    conn = mariadb.connect(host='localhost', port=, database='employee', user='root', password='root@123')\n",
    "    if conn.is_connected():\n",
    "        cursor = conn.cursor()\n",
    "        cursor.execute(\"select database();\")\n",
    "        record = cursor.fetchone()\n",
    "        print(\"You're connected to database: \", record)\n",
    "        cursor.execute('DROP TABLE IF EXISTS employee_data;')\n",
    "        print('Creating table....')\n",
    "# Update CREATE TABLE statement\n",
    "        cursor.execute(\"CREATE TABLE employee_data(first_name varchar(255),last_name varchar(255),company_name varchar(255),address varchar(255),city varchar(255),county varchar(255),state varchar(255),zip int,phone1 varchar(255),phone2 varchar(255),email varchar(255),web varchar(255))\")\n",
    "        print(\"Table is created....\")\n",
    "        # loop through the data frame\n",
    "        for i, row in empdata.iterrows():\n",
    "            # here %S means string values\n",
    "            sql = \"INSERT INTO employee.employee_data VALUES (%s,%s,%s,%s,%s,%s,%s,%s,%s,%s,%s,%s)\"\n",
    "            cursor.execute(sql, tuple(row))\n",
    "            print(\"Record inserted\")\n",
    "            conn.commit()\n",
    "except Error as e:\n",
    "    print(\"Error while connecting to database\", e)\n"
   ]
  },
  {
   "cell_type": "code",
   "execution_count": null,
   "metadata": {},
   "outputs": [],
   "source": [
    "# Create table\n",
    "cursor.execute(\"CREATE TABLE Disabilities(\n",
    "    DisabilitiesID VARCHAR(50),\n",
    "    EnrollmentID INTEGER,\n",
    "    PersonalID INTEGER,\n",
    "    InformationDate VARCHAR(50),\n",
    "    DisabilityType INTEGER,\n",
    "    DisabilityResponse INTEGER,\n",
    "    IndefiniteAndImpairs INTEGER,\n",
    "    TCellCountAvailable VARCHAR(50),\n",
    "    TCellCount VARCHAR(50),\n",
    "    TCellSource VARCHAR(50),\n",
    "    ViralLoadAvailable VARCHAR(50),\n",
    "    ViralLoad VARCHAR(50),\n",
    "    ViralLoadSource VARCHAR(50),\n",
    "    AntiRetroviral VARCHAR(50),\n",
    "    DataCollectionStage INTEGER,\n",
    "    DateCreated VARCHAR(50),\n",
    "    DateUpdated VARCHAR(50),\n",
    "    UserID INTEGER,\n",
    "    DateDeleted VARCHAR(50),\n",
    "    ExportID INTEGER)\")\n"
   ]
  },
  {
   "cell_type": "code",
   "execution_count": null,
   "metadata": {},
   "outputs": [],
   "source": [
    "# Load table\n",
    "cur.execute(\n",
    "    \"INSERT INTO employees (first_name,last_name) VALUES (?, ?)\", \n",
    "    (first_name, last_name)\n",
    "    )"
   ]
  },
  {
   "cell_type": "code",
   "execution_count": null,
   "metadata": {},
   "outputs": [],
   "source": [
    "conn.close()"
   ]
  }
 ],
 "metadata": {
  "kernelspec": {
   "display_name": "Python 3.10.5 64-bit",
   "language": "python",
   "name": "python3"
  },
  "language_info": {
   "codemirror_mode": {
    "name": "ipython",
    "version": 3
   },
   "file_extension": ".py",
   "mimetype": "text/x-python",
   "name": "python",
   "nbconvert_exporter": "python",
   "pygments_lexer": "ipython3",
   "version": "3.10.5"
  },
  "orig_nbformat": 4,
  "vscode": {
   "interpreter": {
    "hash": "26de051ba29f2982a8de78e945f0abaf191376122a1563185a90213a26c5da77"
   }
  }
 },
 "nbformat": 4,
 "nbformat_minor": 2
}
